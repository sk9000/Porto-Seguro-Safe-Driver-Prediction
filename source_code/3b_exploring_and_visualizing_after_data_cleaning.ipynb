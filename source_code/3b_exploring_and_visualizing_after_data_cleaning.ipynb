{
 "cells": [
  {
   "cell_type": "code",
   "execution_count": 22,
   "metadata": {
    "collapsed": true
   },
   "outputs": [],
   "source": [
    "# STEP 1: IMPORT THE PACKAGES\n",
    "\n",
    "#import numpy as np\n",
    "import pandas as pd\n",
    "import seaborn as sns\n",
    "import matplotlib.pyplot as plt\n",
    "import missingno as msno\n",
    "%matplotlib inline"
   ]
  },
  {
   "cell_type": "code",
   "execution_count": 23,
   "metadata": {
    "collapsed": true
   },
   "outputs": [
    {
     "name": "stdout",
     "output_type": "stream",
     "text": [
      "train.csv number of rows and columns: (43388, 30)\n"
     ]
    }
   ],
   "source": [
    "# STEP 2: LOAD DATA “train_final.csv” WHILE ASSIGNING -1 AS NULL VALUES\n",
    "\n",
    "train = pd.read_csv('/Users/sanket/Downloads/train_final.csv',na_values=-1)\n",
    "train = train.drop(['id'], axis=1)\n",
    "print('train.csv number of rows and columns:',train.shape)"
   ]
  },
  {
   "cell_type": "markdown",
   "metadata": {},
   "source": [
    "The target variable is \"target\", which is 1 if a claim was filed, and 0 otherwise. Also, the variables ending with \"cat\" are categorical, and those ending with \"bin\" are binary as per Kaggle website."
   ]
  },
  {
   "cell_type": "code",
   "execution_count": 24,
   "metadata": {
    "collapsed": true
   },
   "outputs": [],
   "source": [
    "# STEP 3: SEPARATE TARGET AND FEATUES VARIABLES\n",
    "\n",
    "features = train.drop(['target'], axis=1).values\n",
    "targets = train.target.values"
   ]
  },
  {
   "cell_type": "code",
   "execution_count": 25,
   "metadata": {
    "collapsed": true
   },
   "outputs": [
    {
     "data": {
      "image/png": "[encoded data removed]",
      "text/plain": [
       "<matplotlib.figure.Figure at 0x116a53da0>"
      ]
     },
     "metadata": {},
     "output_type": "display_data"
    },
    {
     "data": {
      "text/plain": [
       "1    21694\n",
       "0    21694\n",
       "Name: target, dtype: int64"
      ]
     },
     "execution_count": 25,
     "metadata": {},
     "output_type": "execute_result"
    }
   ],
   "source": [
    "# STEP 4: EXPLORE “target” VARIABLE\n",
    "\n",
    "targets = train.target.values\n",
    "ax = sns.countplot(x = targets ,palette=\"Set2\")\n",
    "sns.set(font_scale=1.5)\n",
    "ax.set_xlabel(' ')\n",
    "ax.set_ylabel(' ')\n",
    "fig = plt.gcf()\n",
    "fig.set_size_inches(10,5)\n",
    "ax.set_ylim(top=40000)\n",
    "for p in ax.patches:\n",
    "    ax.annotate('{:.2f}%'.format(100*p.get_height()/len(targets)), (p.get_x()+ 0.3, p.get_height()+10000))\n",
    "plt.title('Distribution of Targets')\n",
    "plt.xlabel('Initiation of Auto Insurance Claim')\n",
    "plt.ylabel('Frequency')\n",
    "plt.show()\n",
    "train['target'].value_counts()"
   ]
  },
  {
   "cell_type": "code",
   "execution_count": 26,
   "metadata": {
    "collapsed": true
   },
   "outputs": [
    {
     "ename": "ModuleNotFoundError",
     "evalue": "No module named 'pandas_profiling'",
     "output_type": "error",
     "traceback": [
      "\u001b[0;31m---------------------------------------------------------------------------\u001b[0m",
      "\u001b[0;31mModuleNotFoundError\u001b[0m                       Traceback (most recent call last)",
      "\u001b[0;32m<ipython-input-26-dc32941f17c4>\u001b[0m in \u001b[0;36m<module>\u001b[0;34m()\u001b[0m\n\u001b[1;32m      1\u001b[0m \u001b[0;31m# STEP 5: ANALYZE DATA USING PANDAS_PROFILING\u001b[0m\u001b[0;34m\u001b[0m\u001b[0;34m\u001b[0m\u001b[0m\n\u001b[1;32m      2\u001b[0m \u001b[0;34m\u001b[0m\u001b[0m\n\u001b[0;32m----> 3\u001b[0;31m \u001b[0;32mimport\u001b[0m \u001b[0mpandas_profiling\u001b[0m \u001b[0;32mas\u001b[0m \u001b[0mpf\u001b[0m\u001b[0;34m\u001b[0m\u001b[0m\n\u001b[0m\u001b[1;32m      4\u001b[0m \u001b[0;34m\u001b[0m\u001b[0m\n\u001b[1;32m      5\u001b[0m \u001b[0mpf\u001b[0m\u001b[0;34m.\u001b[0m\u001b[0mProfileReport\u001b[0m\u001b[0;34m(\u001b[0m\u001b[0mtrain\u001b[0m\u001b[0;34m)\u001b[0m\u001b[0;34m\u001b[0m\u001b[0m\n",
      "\u001b[0;31mModuleNotFoundError\u001b[0m: No module named 'pandas_profiling'"
     ]
    }
   ],
   "source": [
    "# STEP 5: ANALYZE DATA USING PANDAS_PROFILING\n",
    " \n",
    "import pandas_profiling as pf\n",
    "\n",
    "pf.ProfileReport(train)"
   ]
  },
  {
   "cell_type": "code",
   "execution_count": null,
   "metadata": {
    "collapsed": true
   },
   "outputs": [],
   "source": [
    "# STEP 6: SHOW NUMBER OF UNIQUE DATA TYPES\n",
    "\n",
    "train.isnull().values.any()\n",
    "pp = pd.value_counts(train.dtypes)\n",
    "pp.plot.bar()\n",
    "plt.show()"
   ]
  },
  {
   "cell_type": "code",
   "execution_count": null,
   "metadata": {
    "collapsed": true
   },
   "outputs": [],
   "source": [
    "# STEP 7: COUNT NUMBER OF UNIQUE DATA TYPES\n",
    "\n",
    "train.dtypes.value_counts()"
   ]
  },
  {
   "cell_type": "markdown",
   "metadata": {},
   "source": [
    "We need to convert categorical data as categorical"
   ]
  },
  {
   "cell_type": "code",
   "execution_count": null,
   "metadata": {
    "collapsed": true
   },
   "outputs": [],
   "source": [
    "# STEP 8: FEATURE GROUPING INTO CATEGORICAL, BINARY, ORDINAL, AND ORDINAL DATA TYPES\n",
    "# STEP 8a: Categorical (cat) and Binary (bin) Features based on information provided by kaggle\n",
    "\n",
    "cat_cols = [col for col in train.columns if '_cat' in col]\n",
    "bin_cols = [col for col in train.columns if '_bin' in col]"
   ]
  },
  {
   "cell_type": "code",
   "execution_count": null,
   "metadata": {
    "collapsed": true
   },
   "outputs": [],
   "source": [
    "# STEP 8b: Ordinal (ord) and Continuous (con) Features based on Data Analysis (this was not provided by kaggle)\n",
    "# STEP 8b.1: Find no. of unique values\n",
    "\n",
    "def uniq(df):\n",
    "    col = df.columns\n",
    "    for i in col:\n",
    "        print('\\n Unique value of \"{}\" is \"{}\" '.format(i,df[i].nunique()))\n",
    "        #print(df[i].unique())\n",
    "uniq(train)"
   ]
  },
  {
   "cell_type": "code",
   "execution_count": null,
   "metadata": {
    "collapsed": true
   },
   "outputs": [],
   "source": [
    "# STEP 8b.2: Convert variables into category type, and then derive nominal and continuous features\n",
    "# The unique value of \"ps_car_11_cat\" is maximum in the data set and is equal to 104\n",
    "\n",
    "def category_type(df):\n",
    "    col = df.columns\n",
    "    for i in col:\n",
    "        if df[i].nunique()<=104:\n",
    "            df[i] = df[i].astype('category')\n",
    "\n",
    "category_type(train)\n",
    "\n",
    "tot_cat_col = list(train.select_dtypes(include=['category']).columns)\n",
    "ord_cols = [n for n in tot_cat_col if n not in cat_cols + bin_cols +['target']]\n",
    "con_cols = [c for c in train if c not in cat_cols + bin_cols + ord_cols + ['target']]\n",
    "\n",
    "train.dtypes.value_counts()"
   ]
  },
  {
   "cell_type": "code",
   "execution_count": null,
   "metadata": {
    "collapsed": true
   },
   "outputs": [],
   "source": [
    "# STEP 8b.2: SHOW NUMBER OF UNIQUE DATA TYPES AFTER HANDLING CATEGORICAL VARIBELS\n",
    "\n",
    "train.isnull().values.any()\n",
    "pp = pd.value_counts(train.dtypes)\n",
    "pp.plot.bar()\n",
    "plt.show()\n",
    "train.dtypes.value_counts()"
   ]
  },
  {
   "cell_type": "code",
   "execution_count": null,
   "metadata": {
    "collapsed": true
   },
   "outputs": [],
   "source": [
    "# STEP 8c: Final Feature rgouping\n",
    "\n",
    "print(len(cat_cols), ' cat_cols:', cat_cols)\n",
    "print('---------')\n",
    "print(len(bin_cols), ' bin_cols:', bin_cols)\n",
    "print('---------')\n",
    "print(len(ord_cols), ' ord_cols:', ord_cols)\n",
    "print('---------')\n",
    "print(len(con_cols), ' con_cols:', con_cols)"
   ]
  },
  {
   "cell_type": "code",
   "execution_count": null,
   "metadata": {
    "collapsed": true
   },
   "outputs": [],
   "source": [
    "# STEP 9: CHECH FOR MISSING VALUES, IF ANY\n",
    "\n",
    "cols_missing_val_train_after = train.columns[train.isnull().any()].tolist()\n",
    "cols_missing_val_train_after"
   ]
  },
  {
   "cell_type": "code",
   "execution_count": null,
   "metadata": {
    "collapsed": true
   },
   "outputs": [],
   "source": [
    "# STEP 10: DATA VISUALIATION AND ANALYSIS\n",
    "# STEP 10a: Visualization of Categorical Features\n",
    "\n",
    "print(len(cat_cols), ' cat_cols:', cat_cols)\n",
    "\n",
    "fig ,ax = plt.subplots(3,3,figsize=(18,12))\n",
    "ax1,ax2,ax3,ax4,ax5,ax6,ax7,ax8,ax9 = ax.flatten()\n",
    "sns.countplot(train['ps_ind_02_cat'],palette='rainbow',ax=ax1)\n",
    "sns.countplot(train['ps_ind_04_cat'],palette='summer',ax=ax2)\n",
    "sns.countplot(train['ps_ind_05_cat'],palette='rainbow',ax=ax3)\n",
    "sns.countplot(train['ps_car_01_cat'],palette='rainbow',ax=ax4)\n",
    "sns.countplot(train['ps_car_02_cat'],palette='summer',ax=ax5)\n",
    "sns.countplot(train['ps_car_04_cat'],palette='rainbow',ax=ax6)\n",
    "sns.countplot(train['ps_car_06_cat'],palette='rainbow',ax=ax7)\n",
    "sns.countplot(train['ps_car_07_cat'],palette='summer',ax=ax8)\n",
    "sns.countplot(train['ps_car_08_cat'],palette='rainbow',ax=ax9)\n",
    "\n",
    "fig,ax = plt.subplots(1,2,figsize=(18,4))\n",
    "ax10,ax11 = ax.flatten()\n",
    "sns.countplot(train['ps_car_09_cat'],palette='rainbow',ax=ax10)\n",
    "sns.countplot(train['ps_car_11_cat'],palette='rainbow',ax=ax11)"
   ]
  },
  {
   "cell_type": "code",
   "execution_count": null,
   "metadata": {
    "collapsed": true
   },
   "outputs": [],
   "source": [
    "# STEP 10b: Visualization of Binary Features\n",
    "\n",
    "print(len(bin_cols), ' bin_cols:', bin_cols)\n",
    "\n",
    "fig,ax = plt.subplots(2,3,figsize=(18,8))\n",
    "ax1,ax2,ax3,ax4,ax5,ax6 = ax.flatten()\n",
    "sns.countplot(train['ps_ind_06_bin'],palette='rainbow',ax=ax1)\n",
    "sns.countplot(train['ps_ind_07_bin'],palette='summer',ax=ax2)\n",
    "sns.countplot(train['ps_ind_08_bin'],palette='gist_rainbow',ax=ax3)\n",
    "sns.countplot(train['ps_ind_09_bin'],palette='coolwarm',ax=ax4)\n",
    "sns.countplot(train['ps_ind_16_bin'],palette='summer',ax=ax5)\n",
    "sns.countplot(train['ps_ind_17_bin'],palette='coolwarm',ax=ax6)\n",
    "\n",
    "fig,ax7 = plt.subplots(1,1,figsize=(18,4))\n",
    "sns.countplot(train['ps_ind_18_bin'],palette='coolwarm',ax=ax7)"
   ]
  },
  {
   "cell_type": "code",
   "execution_count": null,
   "metadata": {
    "collapsed": true
   },
   "outputs": [],
   "source": [
    "# STEP 10c: Visualization of Ordinal Features\n",
    "\n",
    "print(len(ord_cols), ' ord_cols:', ord_cols)\n",
    "\n",
    "fig,ax = plt.subplots(1,4,figsize=(18,4))\n",
    "ax1,ax2,ax3,ax4 = ax.flatten()\n",
    "sns.countplot(data=train,x='ps_ind_01',palette='rainbow',ax=ax1)\n",
    "sns.countplot(data=train,x='ps_ind_03',palette='summer',ax=ax2)\n",
    "sns.countplot(data=train,x='ps_ind_15',palette='rainbow',ax=ax3)\n",
    "sns.countplot(data=train,x='ps_reg_01',palette='gist_rainbow',ax=ax4)\n",
    "\n",
    "fig,ax = plt.subplots(1,3,figsize=(18,4))\n",
    "ax5,ax6,ax7 = ax.flatten()\n",
    "sns.countplot(data=train,x='ps_reg_02',palette='rainbow',ax=ax5)\n",
    "sns.countplot(data=train,x='ps_car_11',palette='rainbow',ax=ax6)\n",
    "sns.countplot(data=train,x='ps_car_15',palette='terrain',ax=ax7)"
   ]
  },
  {
   "cell_type": "code",
   "execution_count": null,
   "metadata": {
    "collapsed": true
   },
   "outputs": [],
   "source": [
    "# STEP 10d: Visualization of Continuous Features\n",
    "# STEP 10d.1: Analyze feature 'ps_reg_03'\n",
    "\n",
    "print(len(con_cols), ' con_cols:', con_cols)\n",
    "\n",
    "fig,ax = plt.subplots(2,2,figsize=(18,8))\n",
    "ax1,ax2,ax3,ax4 = ax.flatten()\n",
    "sns.distplot(train['ps_reg_03'],bins=100,color='red',ax=ax1)\n",
    "sns.boxplot(x ='ps_reg_03',y='target',data=train,ax=ax2)\n",
    "sns.violinplot(x ='ps_reg_03',y='target',data=train,ax=ax3)\n",
    "sns.pointplot(x= 'ps_reg_03',y='target',data=train,ax=ax4)"
   ]
  },
  {
   "cell_type": "code",
   "execution_count": null,
   "metadata": {
    "collapsed": true
   },
   "outputs": [],
   "source": [
    "# STEP 10d: Visualization of Continuous Features\n",
    "# STEP 10d.2: Analyze feature 'ps_car_12'\n",
    "\n",
    "fig,ax = plt.subplots(2,2,figsize=(18,8))\n",
    "ax1,ax2,ax3,ax4 = ax.flatten()\n",
    "sns.distplot(train['ps_car_12'],bins=100,color='red',ax=ax1)\n",
    "sns.boxplot(x ='ps_car_12',y='target',data=train,ax=ax2)\n",
    "sns.violinplot(x ='ps_car_12',y='target',data=train,ax=ax3)\n",
    "sns.pointplot(x= 'ps_car_12',y='target',data=train,ax=ax4)"
   ]
  },
  {
   "cell_type": "code",
   "execution_count": null,
   "metadata": {
    "collapsed": true
   },
   "outputs": [],
   "source": [
    "# STEP 10d: Visualization of Continuous Features\n",
    "# STEP 10d.3: Analyze feature 'ps_car_13'\n",
    "\n",
    "fig,ax = plt.subplots(2,2,figsize=(18,8))\n",
    "ax1,ax2,ax3,ax4 = ax.flatten()\n",
    "sns.distplot(train['ps_car_13'],bins=100,color='red',ax=ax1)\n",
    "sns.boxplot(x ='ps_car_13',y='target',data=train,ax=ax2)\n",
    "sns.violinplot(x ='ps_car_13',y='target',data=train,ax=ax3)\n",
    "sns.pointplot(x= 'ps_car_13',y='target',data=train,ax=ax4)"
   ]
  },
  {
   "cell_type": "code",
   "execution_count": null,
   "metadata": {
    "collapsed": true
   },
   "outputs": [],
   "source": [
    "# STEP 10d: Visualization of Continuous Features\n",
    "# STEP 10d.4: Analyze feature 'ps_car_14'\n",
    "\n",
    "fig,ax = plt.subplots(2,2,figsize=(18,8))\n",
    "ax1,ax2,ax3,ax4 = ax.flatten()\n",
    "sns.distplot(train['ps_car_14'],bins=100,color='red',ax=ax1)\n",
    "sns.boxplot(x ='ps_car_14',y='target',data=train,ax=ax2)\n",
    "sns.violinplot(x ='ps_car_14',y='target',data=train,ax=ax3)\n",
    "sns.pointplot(x= 'ps_car_14',y='target',data=train,ax=ax4)"
   ]
  },
  {
   "cell_type": "code",
   "execution_count": null,
   "metadata": {
    "collapsed": true
   },
   "outputs": [],
   "source": [
    "# STEP 10d: Visualization of Continuous Features\n",
    "# STEP 10d.5: Correlation Plot for Continuous Features\n",
    "\n",
    "cor = train[con_cols].corr()\n",
    "plt.figure(figsize=(10,4))\n",
    "sns.heatmap(cor,annot=True)\n",
    "plt.tight_layout()"
   ]
  },
  {
   "cell_type": "code",
   "execution_count": null,
   "metadata": {
    "collapsed": true
   },
   "outputs": [],
   "source": []
  }
 ],
 "metadata": {
  "kernelspec": {
   "display_name": "Python 3",
   "language": "python",
   "name": "python3"
  },
  "language_info": {
   "codemirror_mode": {
    "name": "ipython",
    "version": 3
   },
   "file_extension": ".py",
   "mimetype": "text/x-python",
   "name": "python",
   "nbconvert_exporter": "python",
   "pygments_lexer": "ipython3",
   "version": "3.6.3"
  }
 },
 "nbformat": 4,
 "nbformat_minor": 2
}
