{
 "cells": [
  {
   "cell_type": "code",
   "execution_count": 9,
   "metadata": {},
   "outputs": [],
   "source": [
    "# STEP 1: IMPORT THE PACKAGES\n",
    "\n",
    "import numpy as np\n",
    "import pandas as pd"
   ]
  },
  {
   "cell_type": "code",
   "execution_count": 10,
   "metadata": {},
   "outputs": [
    {
     "name": "stdout",
     "output_type": "stream",
     "text": [
      "train.csv number of rows and columns: (43388, 31)\n"
     ]
    }
   ],
   "source": [
    "# STEP 2: LOAD DATA “train_final.csv” WHILE ASSIGNING -1 AS NULL VALUES\n",
    "\n",
    "train = pd.read_csv('/Users/sanket/Downloads/train_final.csv',na_values=-1)\n",
    "print('train.csv number of rows and columns:',train.shape)"
   ]
  },
  {
   "cell_type": "markdown",
   "metadata": {},
   "source": [
    "The target variable is \"target\", which is 1 if a claim was filed, and 0 otherwise. Also, the variables ending with \"cat\" are categorical, and those ending with \"bin\" are binary as per Kaggle website."
   ]
  },
  {
   "cell_type": "code",
   "execution_count": 11,
   "metadata": {},
   "outputs": [],
   "source": [
    "# STEP 3: SEPARATE TARGET AND FEATUES VARIABLES\n",
    "\n",
    "features = train.drop(['target'], axis=1).values\n",
    "targets = train.target.values"
   ]
  },
  {
   "cell_type": "code",
   "execution_count": 12,
   "metadata": {},
   "outputs": [
    {
     "data": {
      "image/png": "[encoded data removed]",
      "text/plain": [
       "<matplotlib.figure.Figure at 0x1155bb0f0>"
      ]
     },
     "metadata": {},
     "output_type": "display_data"
    },
    {
     "data": {
      "text/plain": [
       "1    21694\n",
       "0    21694\n",
       "Name: target, dtype: int64"
      ]
     },
     "execution_count": 12,
     "metadata": {},
     "output_type": "execute_result"
    }
   ],
   "source": [
    "# STEP 4: EXPLORE “target” VARIABLE\n",
    "import seaborn as sns\n",
    "import matplotlib.pyplot as plt\n",
    "\n",
    "targets = train.target.values\n",
    "ax = sns.countplot(x = targets ,palette=\"Set2\")\n",
    "sns.set(font_scale=1.5)\n",
    "ax.set_xlabel(' ')\n",
    "ax.set_ylabel(' ')\n",
    "fig = plt.gcf()\n",
    "fig.set_size_inches(10,5)\n",
    "ax.set_ylim(top=40000)\n",
    "for p in ax.patches:\n",
    "    ax.annotate('{:.2f}%'.format(100*p.get_height()/len(targets)), (p.get_x()+ 0.3, p.get_height()+10000))\n",
    "plt.xlabel('Initiation of Auto Insurance Claim')\n",
    "plt.ylabel('Frequency')\n",
    "plt.show()\n",
    "train['target'].value_counts()"
   ]
  },
  {
   "cell_type": "code",
   "execution_count": 13,
   "metadata": {
    "scrolled": true
   },
   "outputs": [
    {
     "data": {
      "text/plain": [
       "int64      16\n",
       "float64    15\n",
       "dtype: int64"
      ]
     },
     "execution_count": 13,
     "metadata": {},
     "output_type": "execute_result"
    }
   ],
   "source": [
    "# STEP 5: SHOW NUMBER OF UNIQUE DATA TYPES\n",
    "\n",
    "train.dtypes.value_counts()"
   ]
  },
  {
   "cell_type": "code",
   "execution_count": 14,
   "metadata": {
    "scrolled": true
   },
   "outputs": [],
   "source": [
    "# STEP 6: FEATURE GROUPING INTO CATEGORICAL, BINARY, ORDINAL, AND ORDINAL DATA TYPES\n",
    "# STEP 6a: Categorical (cat) and Binary (bin) Features based on information provided by kaggle\n",
    "\n",
    "cat_cols = [col for col in train.columns if '_cat' in col]\n",
    "bin_cols = [col for col in train.columns if '_bin' in col]"
   ]
  },
  {
   "cell_type": "code",
   "execution_count": 15,
   "metadata": {},
   "outputs": [
    {
     "name": "stdout",
     "output_type": "stream",
     "text": [
      "\n",
      " Unique value of \"id\" is \"43388\" \n",
      "\n",
      " Unique value of \"target\" is \"2\" \n",
      "\n",
      " Unique value of \"ps_ind_01\" is \"8\" \n",
      "\n",
      " Unique value of \"ps_ind_02_cat\" is \"4\" \n",
      "\n",
      " Unique value of \"ps_ind_03\" is \"12\" \n",
      "\n",
      " Unique value of \"ps_ind_04_cat\" is \"2\" \n",
      "\n",
      " Unique value of \"ps_ind_05_cat\" is \"7\" \n",
      "\n",
      " Unique value of \"ps_ind_06_bin\" is \"2\" \n",
      "\n",
      " Unique value of \"ps_ind_07_bin\" is \"2\" \n",
      "\n",
      " Unique value of \"ps_ind_08_bin\" is \"2\" \n",
      "\n",
      " Unique value of \"ps_ind_09_bin\" is \"2\" \n",
      "\n",
      " Unique value of \"ps_ind_15\" is \"14\" \n",
      "\n",
      " Unique value of \"ps_ind_16_bin\" is \"2\" \n",
      "\n",
      " Unique value of \"ps_ind_17_bin\" is \"2\" \n",
      "\n",
      " Unique value of \"ps_ind_18_bin\" is \"2\" \n",
      "\n",
      " Unique value of \"ps_reg_01\" is \"10\" \n",
      "\n",
      " Unique value of \"ps_reg_02\" is \"19\" \n",
      "\n",
      " Unique value of \"ps_reg_03\" is \"4184\" \n",
      "\n",
      " Unique value of \"ps_car_01_cat\" is \"12\" \n",
      "\n",
      " Unique value of \"ps_car_02_cat\" is \"2\" \n",
      "\n",
      " Unique value of \"ps_car_04_cat\" is \"10\" \n",
      "\n",
      " Unique value of \"ps_car_06_cat\" is \"18\" \n",
      "\n",
      " Unique value of \"ps_car_07_cat\" is \"2\" \n",
      "\n",
      " Unique value of \"ps_car_08_cat\" is \"2\" \n",
      "\n",
      " Unique value of \"ps_car_09_cat\" is \"5\" \n",
      "\n",
      " Unique value of \"ps_car_11_cat\" is \"104\" \n",
      "\n",
      " Unique value of \"ps_car_11\" is \"4\" \n",
      "\n",
      " Unique value of \"ps_car_12\" is \"125\" \n",
      "\n",
      " Unique value of \"ps_car_13\" is \"20956\" \n",
      "\n",
      " Unique value of \"ps_car_14\" is \"696\" \n",
      "\n",
      " Unique value of \"ps_car_15\" is \"15\" \n"
     ]
    }
   ],
   "source": [
    "# STEP 6b: Ordinal (ord) and Continuous (con) Features based on Data Analysis (this was not provided by kaggle)\n",
    "# STEP 6b.1: Find no. of unique values\n",
    "\n",
    "def uniq(df):\n",
    "    col = df.columns\n",
    "    for i in col:\n",
    "        print('\\n Unique value of \"{}\" is \"{}\" '.format(i,df[i].nunique()))\n",
    "        #print(df[i].unique())\n",
    "uniq(train)"
   ]
  },
  {
   "cell_type": "code",
   "execution_count": 16,
   "metadata": {},
   "outputs": [
    {
     "data": {
      "text/plain": [
       "category    26\n",
       "float64      4\n",
       "int64        1\n",
       "dtype: int64"
      ]
     },
     "execution_count": 16,
     "metadata": {},
     "output_type": "execute_result"
    }
   ],
   "source": [
    "# STEP 6b.2: Convert variables into category type, and then derive nominal and continuous features\n",
    "# The unique value of \"ps_car_11_cat\" is maximum in the data set and is equal to 104\n",
    "\n",
    "def category_type(df):\n",
    "    col = df.columns\n",
    "    for i in col:\n",
    "        if df[i].nunique()<=104:\n",
    "            df[i] = df[i].astype('category')\n",
    "\n",
    "category_type(train)\n",
    "\n",
    "tot_cat_col = list(train.select_dtypes(include=['category']).columns)\n",
    "ord_cols = [n for n in tot_cat_col if n not in cat_cols + bin_cols +['target']]\n",
    "con_cols = [c for c in train if c not in cat_cols + bin_cols + ord_cols + ['target']]\n",
    "\n",
    "train.dtypes.value_counts()"
   ]
  },
  {
   "cell_type": "code",
   "execution_count": 17,
   "metadata": {},
   "outputs": [
    {
     "name": "stdout",
     "output_type": "stream",
     "text": [
      "11  cat_cols: ['ps_ind_02_cat', 'ps_ind_04_cat', 'ps_ind_05_cat', 'ps_car_01_cat', 'ps_car_02_cat', 'ps_car_04_cat', 'ps_car_06_cat', 'ps_car_07_cat', 'ps_car_08_cat', 'ps_car_09_cat', 'ps_car_11_cat']\n",
      "---------\n",
      "7  bin_cols: ['ps_ind_06_bin', 'ps_ind_07_bin', 'ps_ind_08_bin', 'ps_ind_09_bin', 'ps_ind_16_bin', 'ps_ind_17_bin', 'ps_ind_18_bin']\n",
      "---------\n",
      "7  ord_cols: ['ps_ind_01', 'ps_ind_03', 'ps_ind_15', 'ps_reg_01', 'ps_reg_02', 'ps_car_11', 'ps_car_15']\n",
      "---------\n",
      "5  con_cols: ['id', 'ps_reg_03', 'ps_car_12', 'ps_car_13', 'ps_car_14']\n"
     ]
    }
   ],
   "source": [
    "# STEP 6c: Final Feature rgouping\n",
    "\n",
    "print(len(cat_cols), ' cat_cols:', cat_cols)\n",
    "print('---------')\n",
    "print(len(bin_cols), ' bin_cols:', bin_cols)\n",
    "print('---------')\n",
    "print(len(ord_cols), ' ord_cols:', ord_cols)\n",
    "print('---------')\n",
    "print(len(con_cols), ' con_cols:', con_cols)"
   ]
  },
  {
   "cell_type": "code",
   "execution_count": 18,
   "metadata": {},
   "outputs": [
    {
     "data": {
      "text/plain": [
       "[]"
      ]
     },
     "execution_count": 18,
     "metadata": {},
     "output_type": "execute_result"
    }
   ],
   "source": [
    "# STEP 7: CCHECK FOR MISSING VALUES, IF ANY\n",
    "\n",
    "cols_missing_val_train_after = train.columns[train.isnull().any()].tolist()\n",
    "cols_missing_val_train_after"
   ]
  },
  {
   "cell_type": "code",
   "execution_count": 19,
   "metadata": {
    "scrolled": true
   },
   "outputs": [
    {
     "name": "stdout",
     "output_type": "stream",
     "text": [
      "id -745237.5 2228954.5 15221.61 1473965.57\n",
      "ps_reg_03 0.12925387485 1.60910116645 0.4272001873 1.8867962264\n",
      "ps_car_12 0.15417331195 0.58631852275 0.3155946768 0.5744562647\n"
     ]
    },
    {
     "name": "stderr",
     "output_type": "stream",
     "text": [
      "/Library/Frameworks/Python.framework/Versions/3.6/lib/python3.6/site-packages/pandas/core/indexing.py:179: SettingWithCopyWarning: \n",
      "A value is trying to be set on a copy of a slice from a DataFrame\n",
      "\n",
      "See the caveats in the documentation: http://pandas.pydata.org/pandas-docs/stable/indexing.html#indexing-view-versus-copy\n",
      "  self._setitem_with_indexer(indexer, value)\n"
     ]
    },
    {
     "name": "stdout",
     "output_type": "stream",
     "text": [
      "ps_car_13 0.3014015283 1.3268429835 0.456540164648 1.67824297075\n",
      "ps_car_14 0.2805456883 0.4676600083 0.2887905816 0.5329165038\n"
     ]
    }
   ],
   "source": [
    "# STEP 8: DETERMINE OUTLIERS IN CONTINUOUS FEATURES\n",
    "\n",
    "def outlier(df,columns):\n",
    "    for i in columns:\n",
    "        quartile_1,quartile_3 = np.percentile(df[i],[25,75])\n",
    "        quartile_f,quartile_l = np.percentile(df[i],[1,99])\n",
    "        IQR = quartile_3-quartile_1\n",
    "        lower_bound = quartile_1 - (1.5*IQR)\n",
    "        upper_bound = quartile_3 + (1.5*IQR)\n",
    "        print(i,lower_bound,upper_bound,quartile_f,quartile_l)\n",
    "                \n",
    "        df[i].loc[df[i] < lower_bound] = quartile_f\n",
    "        df[i].loc[df[i] > upper_bound] = quartile_l\n",
    "        \n",
    "outlier(train,con_cols)\n"
   ]
  },
  {
   "cell_type": "code",
   "execution_count": 20,
   "metadata": {},
   "outputs": [
    {
     "name": "stdout",
     "output_type": "stream",
     "text": [
      "Categorical feature 26\n",
      "Train (43388, 245)\n",
      "Test (43388, 245)\n",
      "------\n",
      " uint8       228\n",
      "category     12\n",
      "float64       5\n",
      "dtype: int64\n"
     ]
    }
   ],
   "source": [
    "# STEP 9: ONE HOT ENCODING\n",
    "\n",
    "def OHE(df1,df2,column):\n",
    "    cat_col = column\n",
    "    #cat_col = x_train.select_dtypes(include =['category']).columns\n",
    "    len_df1 = df1.shape[0]\n",
    "    \n",
    "    df = pd.concat([df1,df2],ignore_index=True)\n",
    "    c2,c3 = [],{}\n",
    "    \n",
    "    print('Categorical feature',len(column))\n",
    "    for c in cat_col:\n",
    "        if df[c].nunique()>2 :\n",
    "            c2.append(c)\n",
    "            c3[c] = 'ohe_'+c\n",
    "    \n",
    "    df = pd.get_dummies(df, prefix=c3, columns=c2,drop_first=True)\n",
    "\n",
    "    df1 = df.loc[:len_df1-1]\n",
    "    df2 = df.loc[len_df1:]\n",
    "    print('Train',df1.shape)\n",
    "    print('Test',df2.shape)\n",
    "    return df1,df2\n",
    "\n",
    "train1,test1 = OHE(train,train,tot_cat_col)\n",
    "print('------\\n', train1.dtypes.value_counts())"
   ]
  },
  {
   "cell_type": "code",
   "execution_count": 21,
   "metadata": {},
   "outputs": [
    {
     "name": "stdout",
     "output_type": "stream",
     "text": [
      "------\n",
      " uint8       228\n",
      "category     11\n",
      "float64       5\n",
      "dtype: int64\n"
     ]
    }
   ],
   "source": [
    "# STEP 10: SPLIT DATA AFTER ONE HOT ENCODING\n",
    "\n",
    "x1_train = train1.drop(['target'],axis=1)\n",
    "y1_train = train1['target'].astype('category')\n",
    "x1_test = test1.drop(['target'],axis=1)\n",
    "del train1,test1\n",
    "print('------\\n', x1_test.dtypes.value_counts())"
   ]
  },
  {
   "cell_type": "code",
   "execution_count": 22,
   "metadata": {},
   "outputs": [
    {
     "name": "stdout",
     "output_type": "stream",
     "text": [
      "\n",
      "1 of kfold 5\n",
      "roc_auc_score 0.625071778864\n",
      "\n",
      "2 of kfold 5\n",
      "roc_auc_score 0.49328618312\n",
      "\n",
      "3 of kfold 5\n",
      "roc_auc_score 0.620381633301\n",
      "\n",
      "4 of kfold 5\n",
      "roc_auc_score 0.604408548801\n",
      "\n",
      "5 of kfold 5\n",
      "roc_auc_score 0.627115526826\n"
     ]
    }
   ],
   "source": [
    "# STEP 11: LOGISTIC REGRESSION\n",
    "# STEP 11a: Logistic Regression Model Building\n",
    "\n",
    "from sklearn.linear_model import LogisticRegression\n",
    "from sklearn.model_selection import StratifiedKFold,GridSearchCV\n",
    "from sklearn.metrics import confusion_matrix, roc_auc_score ,roc_curve,auc\n",
    "\n",
    "seed =45\n",
    "kf = StratifiedKFold(n_splits=5,random_state=seed,shuffle=True)\n",
    "pred_test_full=0\n",
    "cv_score=[]\n",
    "i=1\n",
    "for train_index,test_index in kf.split(x1_train,y1_train):    \n",
    "    print('\\n{} of kfold {}'.format(i,kf.n_splits))\n",
    "    xtr,xvl = x1_train.loc[train_index],x1_train.loc[test_index]\n",
    "    ytr,yvl = y1_train[train_index],y1_train[test_index]\n",
    "    \n",
    "    lr = LogisticRegression(class_weight='balanced',C=0.005)\n",
    "    lr.fit(xtr, ytr)\n",
    "    pred_test = lr.predict_proba(xvl)[:,1]\n",
    "    score = roc_auc_score(yvl,pred_test)\n",
    "    print('roc_auc_score',score)\n",
    "    cv_score.append(score)\n",
    "    pred_test_full += lr.predict_proba(x1_test)[:,1]\n",
    "    i+=1"
   ]
  },
  {
   "cell_type": "code",
   "execution_count": 23,
   "metadata": {
    "scrolled": false
   },
   "outputs": [
    {
     "name": "stdout",
     "output_type": "stream",
     "text": [
      "LR Confusion matrix\n",
      " [[2650 1688]\n",
      " [1879 2459]]\n",
      "LR Accuracy: 58.8865836791 %\n",
      "LR Mean cv Score: 59.4052734182 %\n",
      "LR cv: [0.62507177886389398, 0.49328618312043698, 0.62038163330052742, 0.60440854880094308, 0.6271155268259887]\n"
     ]
    }
   ],
   "source": [
    "# STEP 11b: Logistic Regression - Prediction and Performance\n",
    "\n",
    "acc = lr.score(X = xvl, y = yvl)\n",
    "print('LR Confusion matrix\\n',confusion_matrix(yvl,lr.predict(xvl)))\n",
    "print('LR Accuracy:',acc*100, '%')\n",
    "print('LR Mean cv Score:',np.mean(cv_score)*100,'%')\n",
    "print('LR cv:',cv_score)"
   ]
  },
  {
   "cell_type": "code",
   "execution_count": 24,
   "metadata": {},
   "outputs": [
    {
     "data": {
      "text/plain": [
       "<matplotlib.text.Text at 0x111019860>"
      ]
     },
     "execution_count": 24,
     "metadata": {},
     "output_type": "execute_result"
    },
    {
     "data": {
      "image/png": "[encoded data removed]",
      "text/plain": [
       "<matplotlib.figure.Figure at 0x115524be0>"
      ]
     },
     "metadata": {},
     "output_type": "display_data"
    }
   ],
   "source": [
    "# STEP 11c: Logistic Regression - Receiver Operating Characteristics\n",
    "\n",
    "import matplotlib.pyplot as plt\n",
    "%matplotlib inline\n",
    "\n",
    "proba = lr.predict_proba(xvl)[:,1]\n",
    "fpr,tpr, threshold = roc_curve(yvl,proba)\n",
    "auc_val = auc(fpr,tpr)\n",
    "\n",
    "plt.figure(figsize=(12,6))\n",
    "plt.title('Reciever Operating Charactaristics')\n",
    "plt.plot(fpr,tpr,'b',label = 'AUC = %0.2f' % auc_val)\n",
    "plt.legend(loc='lower right')\n",
    "plt.plot([0,1],[0,1],'r--')\n",
    "plt.ylabel('True positive rate')\n",
    "plt.xlabel('False positive rate')"
   ]
  }
 ],
 "metadata": {
  "kernelspec": {
   "display_name": "Python 3",
   "language": "python",
   "name": "python3"
  },
  "language_info": {
   "codemirror_mode": {
    "name": "ipython",
    "version": 3
   },
   "file_extension": ".py",
   "mimetype": "text/x-python",
   "name": "python",
   "nbconvert_exporter": "python",
   "pygments_lexer": "ipython3",
   "version": "3.6.3"
  }
 },
 "nbformat": 4,
 "nbformat_minor": 2
}
