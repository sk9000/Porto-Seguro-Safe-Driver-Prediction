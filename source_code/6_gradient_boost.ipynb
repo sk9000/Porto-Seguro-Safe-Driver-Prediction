{
 "cells": [
  {
   "cell_type": "code",
   "execution_count": 1,
   "metadata": {},
   "outputs": [],
   "source": [
    "# STEP 1: IMPORT THE PACKAGES\n",
    "\n",
    "import numpy as np\n",
    "import pandas as pd"
   ]
  },
  {
   "cell_type": "code",
   "execution_count": 2,
   "metadata": {},
   "outputs": [
    {
     "name": "stdout",
     "output_type": "stream",
     "text": [
      "train.csv number of rows and columns: (43388, 31)\n"
     ]
    }
   ],
   "source": [
    "# STEP 2: LOAD DATA WHILE ASSIGNING -1 AS NULL VALUES\n",
    "\n",
    "train = pd.read_csv('/Users/sanket/Downloads/train_final.csv',na_values=-1)\n",
    "print('train.csv number of rows and columns:',train.shape)"
   ]
  },
  {
   "cell_type": "markdown",
   "metadata": {},
   "source": [
    "The target variable is \"target\", which is 1 if a claim was filed, and 0 otherwise. Also, the variables ending with \"cat\" are categorical, and those ending with \"bin\" are binary as per Kaggle website."
   ]
  },
  {
   "cell_type": "code",
   "execution_count": 3,
   "metadata": {},
   "outputs": [],
   "source": [
    "# STEP 3: SEPARATE TARGET AND FEATUES VARIABLES\n",
    "\n",
    "features = train.drop(['target'], axis=1).values\n",
    "targets = train.target.values"
   ]
  },
  {
   "cell_type": "code",
   "execution_count": 4,
   "metadata": {},
   "outputs": [
    {
     "data": {
      "image/png": "[encoded data removed]",
      "text/plain": [
       "<matplotlib.figure.Figure at 0x114bbee10>"
      ]
     },
     "metadata": {},
     "output_type": "display_data"
    },
    {
     "data": {
      "text/plain": [
       "1    21694\n",
       "0    21694\n",
       "Name: target, dtype: int64"
      ]
     },
     "execution_count": 4,
     "metadata": {},
     "output_type": "execute_result"
    }
   ],
   "source": [
    "# STEP 4: EXPLORE “target” VARIABLE\n",
    "import seaborn as sns\n",
    "import matplotlib.pyplot as plt\n",
    "\n",
    "targets = train.target.values\n",
    "ax = sns.countplot(x = targets ,palette=\"Set2\")\n",
    "sns.set(font_scale=1.5)\n",
    "ax.set_xlabel(' ')\n",
    "ax.set_ylabel(' ')\n",
    "fig = plt.gcf()\n",
    "fig.set_size_inches(10,5)\n",
    "ax.set_ylim(top=40000)\n",
    "for p in ax.patches:\n",
    "    ax.annotate('{:.2f}%'.format(100*p.get_height()/len(targets)), (p.get_x()+ 0.3, p.get_height()+10000))\n",
    "plt.title('Distribution of Targets')\n",
    "plt.xlabel('Initiation of Auto Insurance Claim')\n",
    "plt.ylabel('Frequency')\n",
    "plt.show()\n",
    "train['target'].value_counts()"
   ]
  },
  {
   "cell_type": "code",
   "execution_count": 5,
   "metadata": {
    "scrolled": true
   },
   "outputs": [
    {
     "data": {
      "text/plain": [
       "int64      16\n",
       "float64    15\n",
       "dtype: int64"
      ]
     },
     "execution_count": 5,
     "metadata": {},
     "output_type": "execute_result"
    }
   ],
   "source": [
    "# STEP 5: SHOW NUMBER OF UNIQUE DATA TYPES\n",
    "\n",
    "train.dtypes.value_counts()"
   ]
  },
  {
   "cell_type": "code",
   "execution_count": 6,
   "metadata": {
    "scrolled": true
   },
   "outputs": [],
   "source": [
    "# STEP 6: FEATURE GROUPING INTO CATEGORICAL, BINARY, ORDINAL, AND ORDINAL DATA TYPES\n",
    "# STEP 6a: Categorical (cat) and Binary (bin) Features based on information provided by kaggle\n",
    "\n",
    "cat_cols = [col for col in train.columns if '_cat' in col]\n",
    "bin_cols = [col for col in train.columns if '_bin' in col]"
   ]
  },
  {
   "cell_type": "code",
   "execution_count": 7,
   "metadata": {},
   "outputs": [
    {
     "name": "stdout",
     "output_type": "stream",
     "text": [
      "\n",
      " Unique value of \"id\" is \"43388\" \n",
      "\n",
      " Unique value of \"target\" is \"2\" \n",
      "\n",
      " Unique value of \"ps_ind_01\" is \"8\" \n",
      "\n",
      " Unique value of \"ps_ind_02_cat\" is \"4\" \n",
      "\n",
      " Unique value of \"ps_ind_03\" is \"12\" \n",
      "\n",
      " Unique value of \"ps_ind_04_cat\" is \"2\" \n",
      "\n",
      " Unique value of \"ps_ind_05_cat\" is \"7\" \n",
      "\n",
      " Unique value of \"ps_ind_06_bin\" is \"2\" \n",
      "\n",
      " Unique value of \"ps_ind_07_bin\" is \"2\" \n",
      "\n",
      " Unique value of \"ps_ind_08_bin\" is \"2\" \n",
      "\n",
      " Unique value of \"ps_ind_09_bin\" is \"2\" \n",
      "\n",
      " Unique value of \"ps_ind_15\" is \"14\" \n",
      "\n",
      " Unique value of \"ps_ind_16_bin\" is \"2\" \n",
      "\n",
      " Unique value of \"ps_ind_17_bin\" is \"2\" \n",
      "\n",
      " Unique value of \"ps_ind_18_bin\" is \"2\" \n",
      "\n",
      " Unique value of \"ps_reg_01\" is \"10\" \n",
      "\n",
      " Unique value of \"ps_reg_02\" is \"19\" \n",
      "\n",
      " Unique value of \"ps_reg_03\" is \"4184\" \n",
      "\n",
      " Unique value of \"ps_car_01_cat\" is \"12\" \n",
      "\n",
      " Unique value of \"ps_car_02_cat\" is \"2\" \n",
      "\n",
      " Unique value of \"ps_car_04_cat\" is \"10\" \n",
      "\n",
      " Unique value of \"ps_car_06_cat\" is \"18\" \n",
      "\n",
      " Unique value of \"ps_car_07_cat\" is \"2\" \n",
      "\n",
      " Unique value of \"ps_car_08_cat\" is \"2\" \n",
      "\n",
      " Unique value of \"ps_car_09_cat\" is \"5\" \n",
      "\n",
      " Unique value of \"ps_car_11_cat\" is \"104\" \n",
      "\n",
      " Unique value of \"ps_car_11\" is \"4\" \n",
      "\n",
      " Unique value of \"ps_car_12\" is \"125\" \n",
      "\n",
      " Unique value of \"ps_car_13\" is \"20956\" \n",
      "\n",
      " Unique value of \"ps_car_14\" is \"696\" \n",
      "\n",
      " Unique value of \"ps_car_15\" is \"15\" \n"
     ]
    }
   ],
   "source": [
    "# STEP 6b: Ordinal (ord) and Continuous (con) Features based on Data Analysis (this was not provided by kaggle)\n",
    "# STEP 6b.1: Find no. of unique values\n",
    "\n",
    "def uniq(df):\n",
    "    col = df.columns\n",
    "    for i in col:\n",
    "        print('\\n Unique value of \"{}\" is \"{}\" '.format(i,df[i].nunique()))\n",
    "        #print(df[i].unique())\n",
    "uniq(train)"
   ]
  },
  {
   "cell_type": "code",
   "execution_count": 8,
   "metadata": {},
   "outputs": [
    {
     "data": {
      "text/plain": [
       "category    26\n",
       "float64      4\n",
       "int64        1\n",
       "dtype: int64"
      ]
     },
     "execution_count": 8,
     "metadata": {},
     "output_type": "execute_result"
    }
   ],
   "source": [
    "# STEP 6b.2: Convert variables into category type, and then derive nominal and continuous features\n",
    "# The unique value of \"ps_car_11_cat\" is maximum in the data set and is equal to 104\n",
    "\n",
    "def category_type(df):\n",
    "    col = df.columns\n",
    "    for i in col:\n",
    "        if df[i].nunique()<=104:\n",
    "            df[i] = df[i].astype('category')\n",
    "\n",
    "category_type(train)\n",
    "\n",
    "tot_cat_col = list(train.select_dtypes(include=['category']).columns)\n",
    "ord_cols = [n for n in tot_cat_col if n not in cat_cols + bin_cols +['target']]\n",
    "con_cols = [c for c in train if c not in cat_cols + bin_cols + ord_cols + ['target']]\n",
    "\n",
    "train.dtypes.value_counts()"
   ]
  },
  {
   "cell_type": "code",
   "execution_count": 9,
   "metadata": {},
   "outputs": [
    {
     "name": "stdout",
     "output_type": "stream",
     "text": [
      "11  cat_cols: ['ps_ind_02_cat', 'ps_ind_04_cat', 'ps_ind_05_cat', 'ps_car_01_cat', 'ps_car_02_cat', 'ps_car_04_cat', 'ps_car_06_cat', 'ps_car_07_cat', 'ps_car_08_cat', 'ps_car_09_cat', 'ps_car_11_cat']\n",
      "---------\n",
      "7  bin_cols: ['ps_ind_06_bin', 'ps_ind_07_bin', 'ps_ind_08_bin', 'ps_ind_09_bin', 'ps_ind_16_bin', 'ps_ind_17_bin', 'ps_ind_18_bin']\n",
      "---------\n",
      "7  ord_cols: ['ps_ind_01', 'ps_ind_03', 'ps_ind_15', 'ps_reg_01', 'ps_reg_02', 'ps_car_11', 'ps_car_15']\n",
      "---------\n",
      "5  con_cols: ['id', 'ps_reg_03', 'ps_car_12', 'ps_car_13', 'ps_car_14']\n"
     ]
    }
   ],
   "source": [
    "# STEP 6c: Final Feature rgouping\n",
    "\n",
    "print(len(cat_cols), ' cat_cols:', cat_cols)\n",
    "print('---------')\n",
    "print(len(bin_cols), ' bin_cols:', bin_cols)\n",
    "print('---------')\n",
    "print(len(ord_cols), ' ord_cols:', ord_cols)\n",
    "print('---------')\n",
    "print(len(con_cols), ' con_cols:', con_cols)"
   ]
  },
  {
   "cell_type": "code",
   "execution_count": 10,
   "metadata": {},
   "outputs": [
    {
     "data": {
      "text/plain": [
       "[]"
      ]
     },
     "execution_count": 10,
     "metadata": {},
     "output_type": "execute_result"
    }
   ],
   "source": [
    "# STEP 7: CCHECK FOR MISSING VALUES, IF ANY\n",
    "\n",
    "cols_missing_val_train_after = train.columns[train.isnull().any()].tolist()\n",
    "cols_missing_val_train_after"
   ]
  },
  {
   "cell_type": "code",
   "execution_count": 11,
   "metadata": {
    "scrolled": true
   },
   "outputs": [
    {
     "name": "stdout",
     "output_type": "stream",
     "text": [
      "id -745237.5 2228954.5 15221.61 1473965.57\n",
      "ps_reg_03 0.12925387485 1.60910116645 0.4272001873 1.8867962264\n",
      "ps_car_12 0.15417331195 0.58631852275 0.3155946768 0.5744562647\n",
      "ps_car_13 0.3014015283 1.3268429835 0.456540164648 1.67824297075\n"
     ]
    },
    {
     "name": "stderr",
     "output_type": "stream",
     "text": [
      "/Library/Frameworks/Python.framework/Versions/3.6/lib/python3.6/site-packages/pandas/core/indexing.py:179: SettingWithCopyWarning: \n",
      "A value is trying to be set on a copy of a slice from a DataFrame\n",
      "\n",
      "See the caveats in the documentation: http://pandas.pydata.org/pandas-docs/stable/indexing.html#indexing-view-versus-copy\n",
      "  self._setitem_with_indexer(indexer, value)\n"
     ]
    },
    {
     "name": "stdout",
     "output_type": "stream",
     "text": [
      "ps_car_14 0.2805456883 0.4676600083 0.2887905816 0.5329165038\n"
     ]
    }
   ],
   "source": [
    "# STEP 8: DETERMINE OUTLIERS IN CONTINUOUS FEATURES\n",
    "\n",
    "def outlier(df,columns):\n",
    "    for i in columns:\n",
    "        quartile_1,quartile_3 = np.percentile(df[i],[25,75])\n",
    "        quartile_f,quartile_l = np.percentile(df[i],[1,99])\n",
    "        IQR = quartile_3-quartile_1\n",
    "        lower_bound = quartile_1 - (1.5*IQR)\n",
    "        upper_bound = quartile_3 + (1.5*IQR)\n",
    "        print(i,lower_bound,upper_bound,quartile_f,quartile_l)\n",
    "                \n",
    "        df[i].loc[df[i] < lower_bound] = quartile_f\n",
    "        df[i].loc[df[i] > upper_bound] = quartile_l\n",
    "        \n",
    "outlier(train,con_cols)\n"
   ]
  },
  {
   "cell_type": "code",
   "execution_count": 12,
   "metadata": {},
   "outputs": [
    {
     "name": "stdout",
     "output_type": "stream",
     "text": [
      "x_train: (30371, 29)\n",
      "x_test: (13017, 29)\n"
     ]
    }
   ],
   "source": [
    "# STEP 9: SPLIT DATA SET INTO TRAIN AND TEST\n",
    "\n",
    "from sklearn.model_selection import train_test_split\n",
    "\n",
    "#feat = [c for c in train.columns.values if c not in ['target']]\n",
    "#x_train, x_test, y_train, y_test = train_test_split(train, train['target'], test_size=0.30, random_state=42)\n",
    "\n",
    "feat = [c for c in train.columns.values if c not in ['id', 'target']]\n",
    "x_train, x_test, y_train, y_test = train_test_split(train[feat], train['target'], test_size=0.30, random_state=42)\n",
    "\n",
    "print('x_train:',x_train.shape)\n",
    "print('x_test:',x_test.shape)"
   ]
  },
  {
   "cell_type": "code",
   "execution_count": 13,
   "metadata": {},
   "outputs": [
    {
     "name": "stdout",
     "output_type": "stream",
     "text": [
      "GradientBoostingClassifier(criterion='friedman_mse', init=None,\n",
      "              learning_rate=0.02, loss='deviance', max_depth=9,\n",
      "              max_features=10, max_leaf_nodes=None,\n",
      "              min_impurity_decrease=0.0, min_impurity_split=None,\n",
      "              min_samples_leaf=2, min_samples_split=2,\n",
      "              min_weight_fraction_leaf=0.0, n_estimators=500,\n",
      "              presort='auto', random_state=123, subsample=1.0, verbose=0,\n",
      "              warm_start=False)\n"
     ]
    }
   ],
   "source": [
    "# STEP 10: GRADIENT BOOSTING CLASSIFIER\n",
    "# STEP 10a: Gradient Boosting Classifier Model Building\n",
    "\n",
    "from sklearn.ensemble import GradientBoostingClassifier\n",
    "\n",
    "GB = GradientBoostingClassifier(learning_rate = 0.02, n_estimators = 500, max_depth = 9, min_samples_split = 2, min_samples_leaf = 2, max_features = 10, random_state=123)\n",
    "GB.fit(x_train, y_train)\n",
    "print (GB)"
   ]
  },
  {
   "cell_type": "code",
   "execution_count": 14,
   "metadata": {},
   "outputs": [
    {
     "name": "stdout",
     "output_type": "stream",
     "text": [
      "GB Confusion Matrix:\n",
      "Predicted     0     1\n",
      "Actual               \n",
      "0          3935  2591\n",
      "1          2799  3692\n",
      "-----------------------------------------\n",
      "GB Accuracy:  58.5926096643 %\n",
      "-------------------------\n",
      "GB f1 score:  57.8049162361 %\n"
     ]
    }
   ],
   "source": [
    "# STEP 10b: Gradient Boosting Classifier Prediction and Performance\n",
    "\n",
    "from sklearn.metrics import f1_score\n",
    "\n",
    "pred = GB.predict(x_test)\n",
    "cf_gb = pd.crosstab(y_test, pred, rownames=['Actual'], colnames=['Predicted'])\n",
    "f1 = f1_score(y_test, pred, pos_label=1)\n",
    "acc = GB.score(x_test, y_test)\n",
    "\n",
    "print('GB Confusion Matrix:')\n",
    "print (cf_gb)\n",
    "print('-----------------------------------------')\n",
    "print('GB Accuracy: ',acc*100,'%')\n",
    "print('-------------------------')\n",
    "print('GB f1 score: ',f1*100,'%')"
   ]
  },
  {
   "cell_type": "code",
   "execution_count": 15,
   "metadata": {},
   "outputs": [
    {
     "data": {
      "image/png": "[encoded data removed]",
      "text/plain": [
       "<matplotlib.figure.Figure at 0x110143630>"
      ]
     },
     "metadata": {},
     "output_type": "display_data"
    }
   ],
   "source": [
    "# STEP 10c: Gradient Boosting Classifier - Feature's Importance\n",
    "\n",
    "from sklearn.metrics import f1_score\n",
    "\n",
    "features_list = x_train.columns.values\n",
    "feature_importance = GB.feature_importances_\n",
    "sorted_idx = np.argsort(feature_importance)\n",
    "plt.figure(figsize=(8, 8))\n",
    "plt.barh(range(len(sorted_idx)), feature_importance[sorted_idx], align='center')\n",
    "plt.yticks(range(len(sorted_idx)), features_list[sorted_idx])\n",
    "plt.xlabel('Importance')\n",
    "plt.title('Feature importances')\n",
    "plt.draw()\n",
    "plt.show()"
   ]
  }
 ],
 "metadata": {
  "kernelspec": {
   "display_name": "Python 3",
   "language": "python",
   "name": "python3"
  },
  "language_info": {
   "codemirror_mode": {
    "name": "ipython",
    "version": 3
   },
   "file_extension": ".py",
   "mimetype": "text/x-python",
   "name": "python",
   "nbconvert_exporter": "python",
   "pygments_lexer": "ipython3",
   "version": "3.6.3"
  }
 },
 "nbformat": 4,
 "nbformat_minor": 2
}
